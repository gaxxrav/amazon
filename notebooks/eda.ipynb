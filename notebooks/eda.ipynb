{
  "cells": [
    {
      "cell_type": "code",
      "execution_count": null,
      "metadata": {},
      "outputs": [],
      "source": [
        "# EDA: Smart Product Pricing Challenge\n",
        "import os\n",
        "import pandas as pd\n",
        "import numpy as np\n",
        "import matplotlib.pyplot as plt\n",
        "import seaborn as sns\n",
        "\n",
        "# Resolve data directory\n",
        "REPO_ROOT = os.path.abspath(os.path.join(os.path.dirname(__file__), '..')) if '__file__' in globals() else os.path.abspath(os.path.join(os.getcwd()))\n",
        "ENV_DATA_DIR = os.environ.get('DATA_DIR')\n",
        "SR_DATA_DIR = os.path.join(REPO_ROOT, 'student_resource', 'dataset')\n",
        "FALLBACK_DATA_DIR = os.path.join(REPO_ROOT, 'dataset')\n",
        "\n",
        "if ENV_DATA_DIR and os.path.isdir(ENV_DATA_DIR):\n",
        "    DATA_DIR = ENV_DATA_DIR\n",
        "elif os.path.isdir(SR_DATA_DIR):\n",
        "    DATA_DIR = SR_DATA_DIR\n",
        "else:\n",
        "    DATA_DIR = FALLBACK_DATA_DIR\n",
        "\n",
        "train_path = os.path.join(DATA_DIR, 'train.csv')\n",
        "print('Using DATA_DIR =', DATA_DIR)\n",
        "\n",
        "df = pd.read_csv(train_path)\n",
        "df.head()\n"
      ]
    },
    {
      "cell_type": "code",
      "execution_count": null,
      "metadata": {},
      "outputs": [],
      "source": [
        "# Basic info\n",
        "print(df.shape)\n",
        "df.info()\n",
        "\n",
        "df[['sample_id','catalog_content','image_link','price']].head(3)\n"
      ]
    },
    {
      "cell_type": "code",
      "execution_count": null,
      "metadata": {},
      "outputs": [],
      "source": [
        "# Missingness\n",
        "missing = df.isna().mean().sort_values(ascending=False)\n",
        "missing.head(10), missing.describe()\n"
      ]
    },
    {
      "cell_type": "code",
      "execution_count": null,
      "metadata": {},
      "outputs": [],
      "source": [
        "# Price distribution\n",
        "fig, ax = plt.subplots(1,2, figsize=(12,4))\n",
        "sns.histplot(df['price'].dropna(), bins=100, ax=ax[0])\n",
        "ax[0].set_title('Price distribution')\n",
        "\n",
        "sns.histplot(np.log(df['price'].clip(lower=0.01)), bins=100, ax=ax[1])\n",
        "ax[1].set_title('Log price distribution')\n",
        "plt.tight_layout()\n",
        "plt.show()\n"
      ]
    },
    {
      "cell_type": "code",
      "execution_count": null,
      "metadata": {},
      "outputs": [],
      "source": [
        "# Simple IPQ extraction from text\n",
        "import re\n",
        "\n",
        "def extract_ipq(text: str) -> float:\n",
        "    if not isinstance(text, str):\n",
        "        return np.nan\n",
        "    # examples: \"Pack of 6\", \"6 pack\", \"x6\", \"(6 pcs)\", \"6-count\"\n",
        "    patterns = [\n",
        "        r\"pack of\\s*(\\d+)\",\n",
        "        r\"(\\d+)\\s*pack\",\n",
        "        r\"\\b(\\d+)\\s*(?:pcs|pieces|counts?|ct)\\b\",\n",
        "        r\"x\\s*(\\d+)\\b\",\n",
        "        r\"\\b(\\d+)[- ]?count\\b\",\n",
        "    ]\n",
        "    for p in patterns:\n",
        "        m = re.search(p, text, flags=re.IGNORECASE)\n",
        "        if m:\n",
        "            try:\n",
        "                return float(m.group(1))\n",
        "            except Exception:\n",
        "                continue\n",
        "    return np.nan\n",
        "\n",
        "sample_texts = df['catalog_content'].head(10).tolist()\n",
        "[(t[:60] + '...', extract_ipq(t)) for t in sample_texts]\n"
      ]
    }
  ],
  "metadata": {
    "language_info": {
      "name": "python"
    }
  },
  "nbformat": 4,
  "nbformat_minor": 2
}
